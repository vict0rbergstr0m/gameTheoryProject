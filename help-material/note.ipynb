{
 "cells": [
  {
   "cell_type": "code",
   "execution_count": 88,
   "metadata": {},
   "outputs": [],
   "source": [
    "import nashpy as nash\n",
    "import nashpy.repeated_games as create_repeated_games\n",
    "import numpy as np\n",
    "import matplotlib.pyplot as plt"
   ]
  },
  {
   "cell_type": "code",
   "execution_count": null,
   "metadata": {},
   "outputs": [],
   "source": [
    "#prisoners dilemma\n",
    "A = np.array([[3, 0], [5, 1]])\n",
    "B = np.array([[3, 5], [0, 1]])\n",
    "\n",
    "prisoners_dilemma = nash.Game(A, B)\n",
    "\n",
    "#matching pennies\n",
    "A = np.array([[1, -1], [-1, 1]])\n",
    "matching_pennies = nash.Game(A)\n",
    "\n",
    "print(prisoners_dilemma)\n",
    "print(matching_pennies)"
   ]
  },
  {
   "cell_type": "code",
   "execution_count": 3,
   "metadata": {},
   "outputs": [
    {
     "name": "stdout",
     "output_type": "stream",
     "text": [
      "[3 3]\n"
     ]
    }
   ],
   "source": [
    "sigma_r = np.array([1, 0])\n",
    "sigma_c = np.array([1, 0])\n",
    "\n",
    "utility = prisoners_dilemma[sigma_r, sigma_c]\n",
    "print(utility)"
   ]
  },
  {
   "cell_type": "code",
   "execution_count": 15,
   "metadata": {},
   "outputs": [
    {
     "name": "stdout",
     "output_type": "stream",
     "text": [
      "[30000 30000]\n",
      "(True, True)\n"
     ]
    }
   ],
   "source": [
    "sigma_r = np.array([0, 1])\n",
    "sigma_c = np.array([0, 1])\n",
    "\n",
    "utility = prisoners_dilemma[sigma_r, sigma_c]\n",
    "print(utility)\n",
    "\n",
    "r = prisoners_dilemma.is_best_response(sigma_r,sigma_c)\n",
    "print(r)"
   ]
  },
  {
   "cell_type": "code",
   "execution_count": 6,
   "metadata": {},
   "outputs": [
    {
     "name": "stdout",
     "output_type": "stream",
     "text": [
      "(array([0.66666667, 0.33333333]), array([-0.        ,  0.33333333,  0.66666667]))\n"
     ]
    }
   ],
   "source": [
    "A = np.array([[1,1,-1],[2,-1,0]])\n",
    "B = np.array([[1/2,-1,-1/2],[-1,3,2]])\n",
    "\n",
    "nash_game = nash.Game(A,B)\n",
    "\n",
    "eq = nash_game.support_enumeration()\n",
    "for s in eq:\n",
    "    print(s)"
   ]
  },
  {
   "cell_type": "code",
   "execution_count": 18,
   "metadata": {},
   "outputs": [
    {
     "name": "stdout",
     "output_type": "stream",
     "text": [
      "(array([0.33333333, 0.33333333, 0.33333333]), array([0.33333333, 0.33333333, 0.33333333]))\n",
      "(True, True)\n"
     ]
    }
   ],
   "source": [
    "A = np.array([[0,-1, 1], [1, 0, -1], [-1, 1, 0]])\n",
    "\n",
    "rock_paper_scissor = nash.Game(A)\n",
    "\n",
    "eq = rock_paper_scissor.support_enumeration()\n",
    "for s in eq:\n",
    "    print(s)\n",
    "\n",
    "r = rock_paper_scissor.is_best_response(np.array([1, 1, 1]),np.array([1, 1, 1]))\n",
    "print(r)"
   ]
  },
  {
   "cell_type": "code",
   "execution_count": 59,
   "metadata": {},
   "outputs": [
    {
     "name": "stdout",
     "output_type": "stream",
     "text": [
      "True False\n",
      "True False\n",
      "True False\n",
      "True False\n"
     ]
    }
   ],
   "source": [
    "#bayesian game example\n",
    "A = np.array([[2, 1, 1, 0], [0.8, 1, 0.4, 0.6], [1.5, 0.5, 1.7, 0.7], [0.3, 0.5, 1.1, 1.3]])\n",
    "B = np.array([[1, 0.7, 1.2, 0.9], [0.2, 1.1, 1, 1.9], [1.4, 1.1, 0.4, 0.1], [0.6, 1.5, 0.2, 1.1]])\n",
    "\n",
    "bayesian_game = nash.Game(A, B)\n",
    "\n",
    "eq = bayesian_game.support_enumeration()"
   ]
  },
  {
   "cell_type": "code",
   "execution_count": 75,
   "metadata": {},
   "outputs": [
    {
     "name": "stdout",
     "output_type": "stream",
     "text": [
      "(array([ 0.25,  0.  ,  0.  ,  0.  ,  0.  ,  0.  ,  0.  ,  0.  ,  0.  ,\n",
      "        0.  ,  0.  ,  0.  ,  0.25,  0.  ,  0.  ,  0.  ,  0.25, -0.  ,\n",
      "        0.  ,  0.25,  0.  ,  0.  ,  0.  ,  0.  ,  0.  ,  0.  ,  0.  ,\n",
      "        0.  ,  0.  ,  0.  ,  0.  ,  0.  ]), array([ 0.25,  0.  ,  0.  ,  0.  ,  0.  ,  0.  ,  0.  ,  0.  , -0.  ,\n",
      "        0.  ,  0.  ,  0.  ,  0.25,  0.  ,  0.  ,  0.  ,  0.25,  0.  ,\n",
      "       -0.  ,  0.25,  0.  ,  0.  ,  0.  ,  0.  ,  0.  ,  0.  ,  0.  ,\n",
      "        0.  ,  0.  ,  0.  ,  0.  ,  0.  ]))\n"
     ]
    }
   ],
   "source": [
    "A = np.array([[1, -1], [-1, 1]])\n",
    "matching_pennies = nash.Game(A)\n",
    "\n",
    "repeated_pennies = create_repeated_games.obtain_repeated_game(game=matching_pennies, repetitions=2)\n",
    "\n",
    "print(repeated_pennies.linear_program())"
   ]
  },
  {
   "cell_type": "code",
   "execution_count": 108,
   "metadata": {},
   "outputs": [
    {
     "data": {
      "image/png": "[encoded data removed]",
      "text/plain": [
       "<Figure size 640x480 with 1 Axes>"
      ]
     },
     "metadata": {},
     "output_type": "display_data"
    }
   ],
   "source": [
    "#hawk-dove\n",
    "A = np.array([[-2, 6], [0, 3]]);\n",
    "B = np.array([[-2, 0], [6, 3]]);\n",
    "\n",
    "hawk_dove = nash.Game(A, B);\n",
    "\n",
    "y0 = np.array([0.05, 0.95]); #initial population\n",
    "timepoints = np.linspace(0, 10, 1500);\n",
    "population_1, population_2 = hawk_dove.replicator_dynamics(y0=y0, timepoints=timepoints).T;\n",
    "plt.plot(timepoints, population_1, label=\"Population 1\");\n",
    "plt.plot(timepoints, population_2, label=\"Population 2\");\n",
    "plt.legend();\n",
    "plt.show();"
   ]
  },
  {
   "cell_type": "code",
   "execution_count": null,
   "metadata": {},
   "outputs": [],
   "source": []
  }
 ],
 "metadata": {
  "kernelspec": {
   "display_name": "Python 3",
   "language": "python",
   "name": "python3"
  },
  "language_info": {
   "codemirror_mode": {
    "name": "ipython",
    "version": 3
   },
   "file_extension": ".py",
   "mimetype": "text/x-python",
   "name": "python",
   "nbconvert_exporter": "python",
   "pygments_lexer": "ipython3",
   "version": "3.11.4"
  }
 },
 "nbformat": 4,
 "nbformat_minor": 2
}
